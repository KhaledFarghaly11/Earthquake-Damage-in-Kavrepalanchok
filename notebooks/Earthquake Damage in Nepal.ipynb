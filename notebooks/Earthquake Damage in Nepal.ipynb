{
 "cells": [
  {
   "cell_type": "code",
   "execution_count": 1,
   "id": "34b31385",
   "metadata": {},
   "outputs": [],
   "source": [
    "# Import libraries here\n",
    "import sqlite3\n",
    "import matplotlib.pyplot as plt\n",
    "import numpy as np\n",
    "import pandas as pd\n",
    "import seaborn as sns\n",
    "from category_encoders import OneHotEncoder\n",
    "from category_encoders import OrdinalEncoder\n",
    "from sklearn.linear_model import LogisticRegression\n",
    "from sklearn.metrics import accuracy_score\n",
    "from sklearn.model_selection import train_test_split\n",
    "from sklearn.pipeline import Pipeline, make_pipeline\n",
    "from sklearn.tree import DecisionTreeClassifier, plot_tree"
   ]
  },
  {
   "cell_type": "markdown",
   "id": "f5db5d5f",
   "metadata": {},
   "source": [
    "## Import"
   ]
  },
  {
   "cell_type": "markdown",
   "id": "1f848af3",
   "metadata": {},
   "source": [
    "Write a `wrangle` function that will use the query to create a DataFrame"
   ]
  },
  {
   "cell_type": "code",
   "execution_count": 2,
   "id": "661d2a56",
   "metadata": {},
   "outputs": [],
   "source": [
    "# Build your `wrangle` function here\n",
    "def wrangle(path):\n",
    "    # Connect to database using connect method\n",
    "    conn = sqlite3.connect(path)\n",
    "    \n",
    "    # Construct query\n",
    "    query = \"\"\"SELECT distinct(i.building_id) AS b_id, s.*, d.damage_grade\n",
    "            FROM id_map AS i\n",
    "            JOIN building_structure AS s ON i.building_id = s.building_id\n",
    "            JOIN building_damage AS d ON i.building_id = d.building_id\n",
    "            WHERE district_id = 3\"\"\"\n",
    "    \n",
    "    # Read query results into DataFrame\n",
    "    df = pd.read_sql(query, conn, index_col=\"b_id\")\n",
    "    \n",
    "    # Identify leaky columns\n",
    "    drop_cols = [col for col in df.columns if \"post_eq\" in col]\n",
    "    \n",
    "    # Create binary target\n",
    "    df[\"damage_grade\"] = df[\"damage_grade\"].str[-1].astype(int)\n",
    "    df[\"severe_damage\"] = (df[\"damage_grade\"] > 3).astype(int)\n",
    "    \n",
    "    # Drop old target\n",
    "    drop_cols.append(\"damage_grade\")\n",
    "    \n",
    "    # Drop multicolinearity column\n",
    "    drop_cols.append(\"count_floors_pre_eq\")\n",
    "    \n",
    "    # Drop high categorical features\n",
    "    drop_cols.append(\"building_id\")\n",
    "    \n",
    "    # Drop columns\n",
    "    df.drop(columns=drop_cols, inplace=True)\n",
    "    \n",
    "    return df"
   ]
  },
  {
   "cell_type": "code",
   "execution_count": 3,
   "id": "c4e01346",
   "metadata": {},
   "outputs": [
    {
     "data": {
      "text/html": [
       "<div>\n",
       "<style scoped>\n",
       "    .dataframe tbody tr th:only-of-type {\n",
       "        vertical-align: middle;\n",
       "    }\n",
       "\n",
       "    .dataframe tbody tr th {\n",
       "        vertical-align: top;\n",
       "    }\n",
       "\n",
       "    .dataframe thead th {\n",
       "        text-align: right;\n",
       "    }\n",
       "</style>\n",
       "<table border=\"1\" class=\"dataframe\">\n",
       "  <thead>\n",
       "    <tr style=\"text-align: right;\">\n",
       "      <th></th>\n",
       "      <th>age_building</th>\n",
       "      <th>plinth_area_sq_ft</th>\n",
       "      <th>height_ft_pre_eq</th>\n",
       "      <th>land_surface_condition</th>\n",
       "      <th>foundation_type</th>\n",
       "      <th>roof_type</th>\n",
       "      <th>ground_floor_type</th>\n",
       "      <th>other_floor_type</th>\n",
       "      <th>position</th>\n",
       "      <th>plan_configuration</th>\n",
       "      <th>superstructure</th>\n",
       "      <th>severe_damage</th>\n",
       "    </tr>\n",
       "    <tr>\n",
       "      <th>b_id</th>\n",
       "      <th></th>\n",
       "      <th></th>\n",
       "      <th></th>\n",
       "      <th></th>\n",
       "      <th></th>\n",
       "      <th></th>\n",
       "      <th></th>\n",
       "      <th></th>\n",
       "      <th></th>\n",
       "      <th></th>\n",
       "      <th></th>\n",
       "      <th></th>\n",
       "    </tr>\n",
       "  </thead>\n",
       "  <tbody>\n",
       "    <tr>\n",
       "      <th>87473</th>\n",
       "      <td>15</td>\n",
       "      <td>382</td>\n",
       "      <td>18</td>\n",
       "      <td>Flat</td>\n",
       "      <td>Mud mortar-Stone/Brick</td>\n",
       "      <td>Bamboo/Timber-Light roof</td>\n",
       "      <td>Mud</td>\n",
       "      <td>TImber/Bamboo-Mud</td>\n",
       "      <td>Not attached</td>\n",
       "      <td>Rectangular</td>\n",
       "      <td>Stone, mud mortar</td>\n",
       "      <td>1</td>\n",
       "    </tr>\n",
       "    <tr>\n",
       "      <th>87479</th>\n",
       "      <td>12</td>\n",
       "      <td>328</td>\n",
       "      <td>7</td>\n",
       "      <td>Flat</td>\n",
       "      <td>Mud mortar-Stone/Brick</td>\n",
       "      <td>Bamboo/Timber-Light roof</td>\n",
       "      <td>Mud</td>\n",
       "      <td>Not applicable</td>\n",
       "      <td>Not attached</td>\n",
       "      <td>Rectangular</td>\n",
       "      <td>Stone, mud mortar</td>\n",
       "      <td>1</td>\n",
       "    </tr>\n",
       "    <tr>\n",
       "      <th>87482</th>\n",
       "      <td>23</td>\n",
       "      <td>427</td>\n",
       "      <td>20</td>\n",
       "      <td>Flat</td>\n",
       "      <td>Mud mortar-Stone/Brick</td>\n",
       "      <td>Bamboo/Timber-Light roof</td>\n",
       "      <td>Mud</td>\n",
       "      <td>TImber/Bamboo-Mud</td>\n",
       "      <td>Not attached</td>\n",
       "      <td>Rectangular</td>\n",
       "      <td>Stone, mud mortar</td>\n",
       "      <td>1</td>\n",
       "    </tr>\n",
       "    <tr>\n",
       "      <th>87491</th>\n",
       "      <td>12</td>\n",
       "      <td>427</td>\n",
       "      <td>14</td>\n",
       "      <td>Flat</td>\n",
       "      <td>Mud mortar-Stone/Brick</td>\n",
       "      <td>Bamboo/Timber-Light roof</td>\n",
       "      <td>Mud</td>\n",
       "      <td>TImber/Bamboo-Mud</td>\n",
       "      <td>Not attached</td>\n",
       "      <td>Rectangular</td>\n",
       "      <td>Stone, mud mortar</td>\n",
       "      <td>1</td>\n",
       "    </tr>\n",
       "    <tr>\n",
       "      <th>87496</th>\n",
       "      <td>32</td>\n",
       "      <td>360</td>\n",
       "      <td>18</td>\n",
       "      <td>Flat</td>\n",
       "      <td>Mud mortar-Stone/Brick</td>\n",
       "      <td>Bamboo/Timber-Light roof</td>\n",
       "      <td>Mud</td>\n",
       "      <td>TImber/Bamboo-Mud</td>\n",
       "      <td>Not attached</td>\n",
       "      <td>Rectangular</td>\n",
       "      <td>Stone, mud mortar</td>\n",
       "      <td>1</td>\n",
       "    </tr>\n",
       "  </tbody>\n",
       "</table>\n",
       "</div>"
      ],
      "text/plain": [
       "       age_building  plinth_area_sq_ft  height_ft_pre_eq   \n",
       "b_id                                                       \n",
       "87473            15                382                18  \\\n",
       "87479            12                328                 7   \n",
       "87482            23                427                20   \n",
       "87491            12                427                14   \n",
       "87496            32                360                18   \n",
       "\n",
       "      land_surface_condition         foundation_type   \n",
       "b_id                                                   \n",
       "87473                   Flat  Mud mortar-Stone/Brick  \\\n",
       "87479                   Flat  Mud mortar-Stone/Brick   \n",
       "87482                   Flat  Mud mortar-Stone/Brick   \n",
       "87491                   Flat  Mud mortar-Stone/Brick   \n",
       "87496                   Flat  Mud mortar-Stone/Brick   \n",
       "\n",
       "                      roof_type ground_floor_type   other_floor_type   \n",
       "b_id                                                                   \n",
       "87473  Bamboo/Timber-Light roof               Mud  TImber/Bamboo-Mud  \\\n",
       "87479  Bamboo/Timber-Light roof               Mud     Not applicable   \n",
       "87482  Bamboo/Timber-Light roof               Mud  TImber/Bamboo-Mud   \n",
       "87491  Bamboo/Timber-Light roof               Mud  TImber/Bamboo-Mud   \n",
       "87496  Bamboo/Timber-Light roof               Mud  TImber/Bamboo-Mud   \n",
       "\n",
       "           position plan_configuration     superstructure  severe_damage  \n",
       "b_id                                                                      \n",
       "87473  Not attached        Rectangular  Stone, mud mortar              1  \n",
       "87479  Not attached        Rectangular  Stone, mud mortar              1  \n",
       "87482  Not attached        Rectangular  Stone, mud mortar              1  \n",
       "87491  Not attached        Rectangular  Stone, mud mortar              1  \n",
       "87496  Not attached        Rectangular  Stone, mud mortar              1  "
      ]
     },
     "execution_count": 3,
     "metadata": {},
     "output_type": "execute_result"
    }
   ],
   "source": [
    "df = wrangle(\"../data/nepal.sqlite\")\n",
    "df.head()"
   ]
  },
  {
   "cell_type": "markdown",
   "id": "5246b666",
   "metadata": {},
   "source": [
    "## Explore"
   ]
  },
  {
   "cell_type": "markdown",
   "id": "80e010b1",
   "metadata": {},
   "source": [
    "Are the classes in this dataset balanced? Create a bar chart with the normalized value counts from the `\"severe_damage\"` column."
   ]
  },
  {
   "cell_type": "code",
   "execution_count": 4,
   "id": "3de70ec3",
   "metadata": {},
   "outputs": [
    {
     "data": {
      "image/png": "[encoded data removed]",
      "text/plain": [
       "<Figure size 640x480 with 1 Axes>"
      ]
     },
     "metadata": {},
     "output_type": "display_data"
    }
   ],
   "source": [
    "# Plot value counts of `\"severe_damage\"`\n",
    "df[\"severe_damage\"].value_counts(normalize=True).plot(\n",
    "    kind=\"bar\", xlabel=\"Severe Damage\", ylabel=\"Relative Frequency\", title=\"Kavrepalanchok, Class Balance\"\n",
    ");"
   ]
  },
  {
   "cell_type": "markdown",
   "id": "f2143ec6",
   "metadata": {},
   "source": [
    "Is there a relationship between the footprint size of a building and the damage it sustained in the earthquake? "
   ]
  },
  {
   "cell_type": "code",
   "execution_count": 5,
   "id": "e0b500cd",
   "metadata": {},
   "outputs": [
    {
     "data": {
      "image/png": "[encoded data removed]",
      "text/plain": [
       "<Figure size 640x480 with 1 Axes>"
      ]
     },
     "metadata": {},
     "output_type": "display_data"
    }
   ],
   "source": [
    "# Use seaborn to create a boxplot that shows the distributions of the \"plinth_area_sq_ft\" column for both groups in the \"severe_damage\" column.\n",
    "sns.boxplot(x=\"severe_damage\", y=\"plinth_area_sq_ft\", data=df)\n",
    "# Label axes\n",
    "plt.xlabel('Severe Damage')\n",
    "plt.ylabel(\"Plinth Area [sq. ft.]\")\n",
    "plt.title(\"Kavrepalanchok, Plinth Area vs Building Damage\");"
   ]
  },
  {
   "cell_type": "markdown",
   "id": "505900a0",
   "metadata": {},
   "source": [
    "Are buildings with certain roof types more likely to suffer severe damage? Create a pivot table of `df` where the index is `\"roof_type\"` and the values come from the `\"severe_damage\"` column, aggregated by the mean."
   ]
  },
  {
   "cell_type": "code",
   "execution_count": 6,
   "id": "bc571d22",
   "metadata": {},
   "outputs": [
    {
     "data": {
      "text/html": [
       "<div>\n",
       "<style scoped>\n",
       "    .dataframe tbody tr th:only-of-type {\n",
       "        vertical-align: middle;\n",
       "    }\n",
       "\n",
       "    .dataframe tbody tr th {\n",
       "        vertical-align: top;\n",
       "    }\n",
       "\n",
       "    .dataframe thead th {\n",
       "        text-align: right;\n",
       "    }\n",
       "</style>\n",
       "<table border=\"1\" class=\"dataframe\">\n",
       "  <thead>\n",
       "    <tr style=\"text-align: right;\">\n",
       "      <th></th>\n",
       "      <th>severe_damage</th>\n",
       "    </tr>\n",
       "    <tr>\n",
       "      <th>roof_type</th>\n",
       "      <th></th>\n",
       "    </tr>\n",
       "  </thead>\n",
       "  <tbody>\n",
       "    <tr>\n",
       "      <th>Bamboo/Timber-Heavy roof</th>\n",
       "      <td>0.569477</td>\n",
       "    </tr>\n",
       "    <tr>\n",
       "      <th>Bamboo/Timber-Light roof</th>\n",
       "      <td>0.604842</td>\n",
       "    </tr>\n",
       "    <tr>\n",
       "      <th>RCC/RB/RBC</th>\n",
       "      <td>0.040715</td>\n",
       "    </tr>\n",
       "  </tbody>\n",
       "</table>\n",
       "</div>"
      ],
      "text/plain": [
       "                          severe_damage\n",
       "roof_type                              \n",
       "Bamboo/Timber-Heavy roof       0.569477\n",
       "Bamboo/Timber-Light roof       0.604842\n",
       "RCC/RB/RBC                     0.040715"
      ]
     },
     "execution_count": 6,
     "metadata": {},
     "output_type": "execute_result"
    }
   ],
   "source": [
    "roof_pivot = pd.pivot_table(\n",
    "    df, index=\"roof_type\", values=\"severe_damage\", aggfunc=np.mean\n",
    ")\n",
    "roof_pivot"
   ]
  },
  {
   "cell_type": "markdown",
   "id": "e0d562ad",
   "metadata": {},
   "source": [
    "## Split"
   ]
  },
  {
   "cell_type": "markdown",
   "id": "bdb4899c",
   "metadata": {},
   "source": [
    "Create feature matrix `X` and target vector `y`. target is `\"severe_damage\"`."
   ]
  },
  {
   "cell_type": "code",
   "execution_count": 7,
   "id": "48b32b13",
   "metadata": {},
   "outputs": [
    {
     "name": "stdout",
     "output_type": "stream",
     "text": [
      "X shape: (76533, 11)\n",
      "y shape: (76533,)\n"
     ]
    }
   ],
   "source": [
    "target = \"severe_damage\"\n",
    "X = df.drop(columns=target)\n",
    "y = df[target]\n",
    "print(\"X shape:\", X.shape)\n",
    "print(\"y shape:\", y.shape)"
   ]
  },
  {
   "cell_type": "markdown",
   "id": "786f7028",
   "metadata": {},
   "source": [
    "Divide dataset into training and validation sets using a randomized split"
   ]
  },
  {
   "cell_type": "code",
   "execution_count": 8,
   "id": "f75164ff",
   "metadata": {},
   "outputs": [
    {
     "name": "stdout",
     "output_type": "stream",
     "text": [
      "X_train shape: (61226, 11)\n",
      "y_train shape: (61226,)\n",
      "X_val shape: (15307, 11)\n",
      "y_val shape: (15307,)\n"
     ]
    }
   ],
   "source": [
    "X_train, X_val, y_train, y_val = train_test_split(X, y, test_size=0.2, random_state=42)\n",
    "print(\"X_train shape:\", X_train.shape)\n",
    "print(\"y_train shape:\", y_train.shape)\n",
    "print(\"X_val shape:\", X_val.shape)\n",
    "print(\"y_val shape:\", y_val.shape)"
   ]
  },
  {
   "cell_type": "markdown",
   "id": "72aa9905",
   "metadata": {},
   "source": [
    "# Build Model"
   ]
  },
  {
   "cell_type": "markdown",
   "id": "9a8dcb83",
   "metadata": {},
   "source": [
    "## Baseline"
   ]
  },
  {
   "cell_type": "markdown",
   "id": "bf2ce321",
   "metadata": {},
   "source": [
    "Calculate the baseline accuracy score for your model."
   ]
  },
  {
   "cell_type": "code",
   "execution_count": 9,
   "id": "89b32775",
   "metadata": {},
   "outputs": [
    {
     "name": "stdout",
     "output_type": "stream",
     "text": [
      "Baseline Accuracy: 0.55\n"
     ]
    }
   ],
   "source": [
    "acc_baseline = y_train.value_counts(normalize=True).max()\n",
    "print(\"Baseline Accuracy:\", round(acc_baseline, 2))"
   ]
  },
  {
   "cell_type": "markdown",
   "id": "1b03eb92",
   "metadata": {},
   "source": [
    "## Iterate"
   ]
  },
  {
   "cell_type": "markdown",
   "id": "dcb77980",
   "metadata": {},
   "source": [
    "Create a model `model_lr` that uses logistic regression to predict building damage."
   ]
  },
  {
   "cell_type": "code",
   "execution_count": 10,
   "id": "44a19743",
   "metadata": {},
   "outputs": [
    {
     "data": {
      "text/html": [
       "<style>#sk-container-id-1 {color: black;background-color: white;}#sk-container-id-1 pre{padding: 0;}#sk-container-id-1 div.sk-toggleable {background-color: white;}#sk-container-id-1 label.sk-toggleable__label {cursor: pointer;display: block;width: 100%;margin-bottom: 0;padding: 0.3em;box-sizing: border-box;text-align: center;}#sk-container-id-1 label.sk-toggleable__label-arrow:before {content: \"▸\";float: left;margin-right: 0.25em;color: #696969;}#sk-container-id-1 label.sk-toggleable__label-arrow:hover:before {color: black;}#sk-container-id-1 div.sk-estimator:hover label.sk-toggleable__label-arrow:before {color: black;}#sk-container-id-1 div.sk-toggleable__content {max-height: 0;max-width: 0;overflow: hidden;text-align: left;background-color: #f0f8ff;}#sk-container-id-1 div.sk-toggleable__content pre {margin: 0.2em;color: black;border-radius: 0.25em;background-color: #f0f8ff;}#sk-container-id-1 input.sk-toggleable__control:checked~div.sk-toggleable__content {max-height: 200px;max-width: 100%;overflow: auto;}#sk-container-id-1 input.sk-toggleable__control:checked~label.sk-toggleable__label-arrow:before {content: \"▾\";}#sk-container-id-1 div.sk-estimator input.sk-toggleable__control:checked~label.sk-toggleable__label {background-color: #d4ebff;}#sk-container-id-1 div.sk-label input.sk-toggleable__control:checked~label.sk-toggleable__label {background-color: #d4ebff;}#sk-container-id-1 input.sk-hidden--visually {border: 0;clip: rect(1px 1px 1px 1px);clip: rect(1px, 1px, 1px, 1px);height: 1px;margin: -1px;overflow: hidden;padding: 0;position: absolute;width: 1px;}#sk-container-id-1 div.sk-estimator {font-family: monospace;background-color: #f0f8ff;border: 1px dotted black;border-radius: 0.25em;box-sizing: border-box;margin-bottom: 0.5em;}#sk-container-id-1 div.sk-estimator:hover {background-color: #d4ebff;}#sk-container-id-1 div.sk-parallel-item::after {content: \"\";width: 100%;border-bottom: 1px solid gray;flex-grow: 1;}#sk-container-id-1 div.sk-label:hover label.sk-toggleable__label {background-color: #d4ebff;}#sk-container-id-1 div.sk-serial::before {content: \"\";position: absolute;border-left: 1px solid gray;box-sizing: border-box;top: 0;bottom: 0;left: 50%;z-index: 0;}#sk-container-id-1 div.sk-serial {display: flex;flex-direction: column;align-items: center;background-color: white;padding-right: 0.2em;padding-left: 0.2em;position: relative;}#sk-container-id-1 div.sk-item {position: relative;z-index: 1;}#sk-container-id-1 div.sk-parallel {display: flex;align-items: stretch;justify-content: center;background-color: white;position: relative;}#sk-container-id-1 div.sk-item::before, #sk-container-id-1 div.sk-parallel-item::before {content: \"\";position: absolute;border-left: 1px solid gray;box-sizing: border-box;top: 0;bottom: 0;left: 50%;z-index: -1;}#sk-container-id-1 div.sk-parallel-item {display: flex;flex-direction: column;z-index: 1;position: relative;background-color: white;}#sk-container-id-1 div.sk-parallel-item:first-child::after {align-self: flex-end;width: 50%;}#sk-container-id-1 div.sk-parallel-item:last-child::after {align-self: flex-start;width: 50%;}#sk-container-id-1 div.sk-parallel-item:only-child::after {width: 0;}#sk-container-id-1 div.sk-dashed-wrapped {border: 1px dashed gray;margin: 0 0.4em 0.5em 0.4em;box-sizing: border-box;padding-bottom: 0.4em;background-color: white;}#sk-container-id-1 div.sk-label label {font-family: monospace;font-weight: bold;display: inline-block;line-height: 1.2em;}#sk-container-id-1 div.sk-label-container {text-align: center;}#sk-container-id-1 div.sk-container {/* jupyter's `normalize.less` sets `[hidden] { display: none; }` but bootstrap.min.css set `[hidden] { display: none !important; }` so we also need the `!important` here to be able to override the default hidden behavior on the sphinx rendered scikit-learn.org. See: https://github.com/scikit-learn/scikit-learn/issues/21755 */display: inline-block !important;position: relative;}#sk-container-id-1 div.sk-text-repr-fallback {display: none;}</style><div id=\"sk-container-id-1\" class=\"sk-top-container\"><div class=\"sk-text-repr-fallback\"><pre>Pipeline(steps=[(&#x27;onehotencoder&#x27;,\n",
       "                 OneHotEncoder(cols=[&#x27;land_surface_condition&#x27;,\n",
       "                                     &#x27;foundation_type&#x27;, &#x27;roof_type&#x27;,\n",
       "                                     &#x27;ground_floor_type&#x27;, &#x27;other_floor_type&#x27;,\n",
       "                                     &#x27;position&#x27;, &#x27;plan_configuration&#x27;,\n",
       "                                     &#x27;superstructure&#x27;],\n",
       "                               use_cat_names=True)),\n",
       "                (&#x27;logisticregression&#x27;, LogisticRegression(max_iter=2000))])</pre><b>In a Jupyter environment, please rerun this cell to show the HTML representation or trust the notebook. <br />On GitHub, the HTML representation is unable to render, please try loading this page with nbviewer.org.</b></div><div class=\"sk-container\" hidden><div class=\"sk-item sk-dashed-wrapped\"><div class=\"sk-label-container\"><div class=\"sk-label sk-toggleable\"><input class=\"sk-toggleable__control sk-hidden--visually\" id=\"sk-estimator-id-1\" type=\"checkbox\" ><label for=\"sk-estimator-id-1\" class=\"sk-toggleable__label sk-toggleable__label-arrow\">Pipeline</label><div class=\"sk-toggleable__content\"><pre>Pipeline(steps=[(&#x27;onehotencoder&#x27;,\n",
       "                 OneHotEncoder(cols=[&#x27;land_surface_condition&#x27;,\n",
       "                                     &#x27;foundation_type&#x27;, &#x27;roof_type&#x27;,\n",
       "                                     &#x27;ground_floor_type&#x27;, &#x27;other_floor_type&#x27;,\n",
       "                                     &#x27;position&#x27;, &#x27;plan_configuration&#x27;,\n",
       "                                     &#x27;superstructure&#x27;],\n",
       "                               use_cat_names=True)),\n",
       "                (&#x27;logisticregression&#x27;, LogisticRegression(max_iter=2000))])</pre></div></div></div><div class=\"sk-serial\"><div class=\"sk-item\"><div class=\"sk-estimator sk-toggleable\"><input class=\"sk-toggleable__control sk-hidden--visually\" id=\"sk-estimator-id-2\" type=\"checkbox\" ><label for=\"sk-estimator-id-2\" class=\"sk-toggleable__label sk-toggleable__label-arrow\">OneHotEncoder</label><div class=\"sk-toggleable__content\"><pre>OneHotEncoder(cols=[&#x27;land_surface_condition&#x27;, &#x27;foundation_type&#x27;, &#x27;roof_type&#x27;,\n",
       "                    &#x27;ground_floor_type&#x27;, &#x27;other_floor_type&#x27;, &#x27;position&#x27;,\n",
       "                    &#x27;plan_configuration&#x27;, &#x27;superstructure&#x27;],\n",
       "              use_cat_names=True)</pre></div></div></div><div class=\"sk-item\"><div class=\"sk-estimator sk-toggleable\"><input class=\"sk-toggleable__control sk-hidden--visually\" id=\"sk-estimator-id-3\" type=\"checkbox\" ><label for=\"sk-estimator-id-3\" class=\"sk-toggleable__label sk-toggleable__label-arrow\">LogisticRegression</label><div class=\"sk-toggleable__content\"><pre>LogisticRegression(max_iter=2000)</pre></div></div></div></div></div></div></div>"
      ],
      "text/plain": [
       "Pipeline(steps=[('onehotencoder',\n",
       "                 OneHotEncoder(cols=['land_surface_condition',\n",
       "                                     'foundation_type', 'roof_type',\n",
       "                                     'ground_floor_type', 'other_floor_type',\n",
       "                                     'position', 'plan_configuration',\n",
       "                                     'superstructure'],\n",
       "                               use_cat_names=True)),\n",
       "                ('logisticregression', LogisticRegression(max_iter=2000))])"
      ]
     },
     "execution_count": 10,
     "metadata": {},
     "output_type": "execute_result"
    }
   ],
   "source": [
    "model_lr = make_pipeline(\n",
    "    OneHotEncoder(use_cat_names=True),\n",
    "    LogisticRegression(max_iter=2000)\n",
    ")\n",
    "model_lr.fit(X_train, y_train)"
   ]
  },
  {
   "cell_type": "markdown",
   "id": "61bb22f5",
   "metadata": {},
   "source": [
    "Calculate training and validation accuracy score for `model_lr`. X_train"
   ]
  },
  {
   "cell_type": "code",
   "execution_count": 11,
   "id": "4bf483d9",
   "metadata": {},
   "outputs": [
    {
     "name": "stdout",
     "output_type": "stream",
     "text": [
      "Logistic Regression, Training Accuracy Score: 0.6515\n",
      "Logistic Regression, Validation Accuracy Score: 0.6518\n"
     ]
    }
   ],
   "source": [
    "lr_train_acc = accuracy_score(y_train, model_lr.predict(X_train))\n",
    "lr_val_acc = model_lr.score(X_val, y_val)\n",
    "\n",
    "print(\"Logistic Regression, Training Accuracy Score:\", round(lr_train_acc, 4))\n",
    "print(\"Logistic Regression, Validation Accuracy Score:\", round(lr_val_acc, 4))"
   ]
  },
  {
   "cell_type": "markdown",
   "id": "8f893456",
   "metadata": {},
   "source": [
    "Perhaps a decision tree model will perform better than logistic regression, but what's the best hyperparameter value for `max_depth`? Create a `for` loop to train and evaluate the model `model_dt` at all depths from 1 to 15."
   ]
  },
  {
   "cell_type": "code",
   "execution_count": null,
   "id": "e0240905",
   "metadata": {},
   "outputs": [],
   "source": [
    "depth_hyperparams = range(1, 16)    # for max_depth\n",
    "training_acc = []\n",
    "validation_acc = []\n",
    "for d in depth_hyperparams:\n",
    "    model_dt = make_pipeline(\n",
    "        OrdinalEncoder(), \n",
    "        DecisionTreeClassifier(max_depth= d, random_state=42)\n",
    "    )\n",
    "    # Fit model to training data\n",
    "    model_dt.fit(X_train, y_train)\n",
    "    # Calculate training accuracy score and append to `training_acc`\n",
    "    training_acc.append(model_dt.score(X_train, y_train))\n",
    "    # Calculate validation accuracy score and append to `training_acc`\n",
    "    validation_acc.append(model_dt.score(X_val, y_val))\n",
    "\n",
    "print(\"Training Accuracy Scores:\", training_acc[:6])\n",
    "print(\"Validation Accuracy Scores:\", validation_acc[:6])\n",
    "\n",
    "model_dt.fit(X_train, y_train)"
   ]
  },
  {
   "cell_type": "markdown",
   "id": "f962e272",
   "metadata": {},
   "source": [
    "Using the values in `training_acc` and `validation_acc`, plot the validation curve for `model_dt`."
   ]
  },
  {
   "cell_type": "code",
   "execution_count": null,
   "id": "11f0fe95",
   "metadata": {},
   "outputs": [],
   "source": [
    "plt.plot(depth_hyperparams, training_acc, label=\"training\")\n",
    "plt.plot(depth_hyperparams, validation_acc, label=\"validation\")\n",
    "plt.xlabel(\"Max Depth\")\n",
    "plt.ylabel(\"Accuracy Score\")\n",
    "plt.legend();"
   ]
  },
  {
   "cell_type": "markdown",
   "id": "acf5dee7",
   "metadata": {},
   "source": [
    "Build and train a new decision tree model `final_model_dt`, using the value for `max_depth` that yielded the best validation accuracy score in your plot above. "
   ]
  },
  {
   "cell_type": "code",
   "execution_count": null,
   "id": "a7ca5209",
   "metadata": {},
   "outputs": [],
   "source": [
    "final_model_dt = make_pipeline(\n",
    "    OrdinalEncoder(), \n",
    "    DecisionTreeClassifier(max_depth= 10 , random_state=42)\n",
    ")\n",
    "final_model_dt.fit(X_train, y_train)"
   ]
  },
  {
   "cell_type": "markdown",
   "id": "732e6f67",
   "metadata": {},
   "source": [
    "## EvaluateX_train"
   ]
  },
  {
   "cell_type": "markdown",
   "id": "b8d16cd1",
   "metadata": {},
   "source": [
    "How does my model perform on the test set? First, read the CSV file `\"data/kavrepalanchok-test-features.csv\"` into the DataFrame `X_test`. Next, use `final_model_dt` to generate a list of test predictions `y_test_pred`."
   ]
  },
  {
   "cell_type": "code",
   "execution_count": null,
   "id": "fd120cab",
   "metadata": {},
   "outputs": [],
   "source": [
    "X_test = pd.read_csv(\"../data/kavrepalanchok-test-features.csv\", index_col=\"b_id\")\n",
    "y_test_pred = pd.Series(final_model_dt.predict(X_test))\n",
    "y_test_pred[:5]"
   ]
  },
  {
   "cell_type": "markdown",
   "id": "99ad600b",
   "metadata": {},
   "source": [
    "# Communicate Results"
   ]
  },
  {
   "cell_type": "markdown",
   "id": "7bfda77e",
   "metadata": {},
   "source": [
    "What are the most important features for `final_model_dt`? Create a Series Gini `feat_imp`, where the index labels are the feature names for your dataset and the values are the feature importances for your model."
   ]
  },
  {
   "cell_type": "code",
   "execution_count": null,
   "id": "d4aa9cd3",
   "metadata": {},
   "outputs": [],
   "source": [
    "features = X_train.columns\n",
    "importances = final_model_dt.named_steps[\"decisiontreeclassifier\"].feature_importances_\n",
    "feat_imp = pd.Series(importances, index=features).sort_values()\n",
    "feat_imp.head()"
   ]
  },
  {
   "cell_type": "markdown",
   "id": "8554cecc",
   "metadata": {},
   "source": [
    "Create a horizontal bar chart of `feat_imp`."
   ]
  },
  {
   "cell_type": "code",
   "execution_count": null,
   "id": "1757d51f",
   "metadata": {},
   "outputs": [],
   "source": [
    "feat_imp.plot(kind=\"barh\")\n",
    "plt.xlabel(\"Gini Importance\")\n",
    "plt.ylabel(\"Feature\");"
   ]
  },
  {
   "cell_type": "code",
   "execution_count": null,
   "id": "bfef134d",
   "metadata": {},
   "outputs": [],
   "source": []
  }
 ],
 "metadata": {
  "kernelspec": {
   "display_name": "Python 3 (ipykernel)",
   "language": "python",
   "name": "python3"
  },
  "language_info": {
   "codemirror_mode": {
    "name": "ipython",
    "version": 3
   },
   "file_extension": ".py",
   "mimetype": "text/x-python",
   "name": "python",
   "nbconvert_exporter": "python",
   "pygments_lexer": "ipython3",
   "version": "3.10.10"
  }
 },
 "nbformat": 4,
 "nbformat_minor": 5
}
